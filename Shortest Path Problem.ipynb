{
 "cells": [
  {
   "cell_type": "markdown",
   "metadata": {},
   "source": [
    "# One way to think about a graph G is with a square matrix C. The entry cuv denotes the cost of an edge from u to v. Consider the graph in the matrix in C.csv.\n",
    "\n",
    "## Write code that implement’s Dijkstra’s Algorithm. What is the shortest path from 1 to 20, and how much does it cost? What is the shortest path from 11 to 13, and how much does it cost? What is the shortest path from 17 to 3, and how much does it cost?"
   ]
  },
  {
   "cell_type": "code",
   "execution_count": 1,
   "metadata": {
    "collapsed": true
   },
   "outputs": [],
   "source": [
    "import pandas as pd\n",
    "import numpy as np\n",
    "\n",
    "# input Data as a dictionary where Data[i][j] means the cost from i to j.\n",
    "Data = pd.read_csv('C.csv', header=None,  names= range(1,21))\n",
    "Data.index = range(1, 21)\n",
    "Data = Data.to_dict('index')"
   ]
  },
  {
   "cell_type": "code",
   "execution_count": 2,
   "metadata": {
    "collapsed": true
   },
   "outputs": [],
   "source": [
    "# Function to find sp\n",
    "def Dijkstra(Data, s, t):\n",
    "    '''\n",
    "    @Data: a dictionary where Data[i][j] means the cost from i to j.\n",
    "    @s: the start point, t is the end point\n",
    "    '''\n",
    "    dis = {s:0}\n",
    "    route = {s:[s]}\n",
    "    while t not in dis.keys():\n",
    "        left = Data.keys() - dis.keys()\n",
    "        dis_left = {}\n",
    "        route_left = {}\n",
    "        \n",
    "        for item in left:\n",
    "            temp = {}\n",
    "            for x in dis.keys():\n",
    "                temp[x] = dis[x] + Data[x][item]\n",
    "            x_star = min(temp, key = temp.get)\n",
    "            dis_left[item] = temp[x_star]\n",
    "            route_left[item] = route[x_star]+[item]\n",
    "            \n",
    "        the_one = min(dis_left, key = dis_left.get)\n",
    "        dis[the_one] = dis_left[the_one]\n",
    "        route[the_one] = route_left[the_one]\n",
    "        \n",
    "    return {\"cost\": dis[t], \"route\": route[t]}"
   ]
  },
  {
   "cell_type": "code",
   "execution_count": 3,
   "metadata": {},
   "outputs": [
    {
     "data": {
      "text/plain": [
       "{'cost': 24, 'route': [1, 12, 4, 6, 8, 20]}"
      ]
     },
     "execution_count": 3,
     "metadata": {},
     "output_type": "execute_result"
    }
   ],
   "source": [
    "Dijkstra(Data, 1, 20)"
   ]
  },
  {
   "cell_type": "markdown",
   "metadata": {},
   "source": [
    "The shortest path from 1 to 20: 1 - 12 - 4 - 6 - 8 - 20, and it costs 24."
   ]
  },
  {
   "cell_type": "code",
   "execution_count": 4,
   "metadata": {},
   "outputs": [
    {
     "data": {
      "text/plain": [
       "{'cost': 12, 'route': [11, 4, 16, 13]}"
      ]
     },
     "execution_count": 4,
     "metadata": {},
     "output_type": "execute_result"
    }
   ],
   "source": [
    "Dijkstra(Data, 11, 13)"
   ]
  },
  {
   "cell_type": "markdown",
   "metadata": {},
   "source": [
    "The shortest path from 11 to 13: 11 - 4 - 16 - 13, and it costs 12."
   ]
  },
  {
   "cell_type": "code",
   "execution_count": 5,
   "metadata": {},
   "outputs": [
    {
     "data": {
      "text/plain": [
       "{'cost': 24, 'route': [17, 6, 8, 3]}"
      ]
     },
     "execution_count": 5,
     "metadata": {},
     "output_type": "execute_result"
    }
   ],
   "source": [
    "Dijkstra(Data, 17, 3)"
   ]
  },
  {
   "cell_type": "markdown",
   "metadata": {},
   "source": [
    "The shortest path from 17 to 3: 17 - 6 - 8 - 3, and it costs 24."
   ]
  },
  {
   "cell_type": "markdown",
   "metadata": {},
   "source": [
    "## Repeat part a), but now you can only use at most 3 steps. What if I can use 5 steps?\n"
   ]
  },
  {
   "cell_type": "code",
   "execution_count": 6,
   "metadata": {
    "collapsed": true
   },
   "outputs": [],
   "source": [
    "# Function to find sp with most k steps\n",
    "def BellmanFord(Data, s, t, k):\n",
    "    '''\n",
    "    @Data: a dictionary where Data[i][j] means the cost from i to j.\n",
    "    @s: the start point, t is the end point\n",
    "    @k: is the maximum steps we can take\n",
    "    '''\n",
    "    def helper(Data, s, t, k):\n",
    "        if k == 0:\n",
    "            res = dict.fromkeys(Data.keys(), [float('Inf'), [s]])\n",
    "            res[s] = [0, [s]]\n",
    "            return res\n",
    "        else:\n",
    "            res = {}\n",
    "            for i in Data.keys():\n",
    "                last_step = helper(Data, s, i, k-1)\n",
    "                temp = [last_step[x][0] + Data[x][i] for x in Data.keys()]    \n",
    "                x_star = np.argmin(temp) + 1\n",
    "                \n",
    "                if x_star != i:\n",
    "                    route = last_step[x_star][1] + [i]\n",
    "                else:\n",
    "                    route = last_step[x_star][1]\n",
    "                    \n",
    "                res[i] = [temp[x_star - 1], route]\n",
    "            return res\n",
    "    \n",
    "    ans = helper(Data, s, t, k)[t]\n",
    "    return {\"cost\": ans[0], \"route\": ans[1]}"
   ]
  },
  {
   "cell_type": "code",
   "execution_count": 7,
   "metadata": {},
   "outputs": [
    {
     "data": {
      "text/plain": [
       "{'cost': 100, 'route': [1, 20]}"
      ]
     },
     "execution_count": 7,
     "metadata": {},
     "output_type": "execute_result"
    }
   ],
   "source": [
    "BellmanFord(Data, 1, 20, 3)"
   ]
  },
  {
   "cell_type": "code",
   "execution_count": 8,
   "metadata": {},
   "outputs": [
    {
     "data": {
      "text/plain": [
       "{'cost': 12, 'route': [11, 4, 16, 13]}"
      ]
     },
     "execution_count": 8,
     "metadata": {},
     "output_type": "execute_result"
    }
   ],
   "source": [
    "BellmanFord(Data, 11, 13, 3)"
   ]
  },
  {
   "cell_type": "code",
   "execution_count": 9,
   "metadata": {},
   "outputs": [
    {
     "data": {
      "text/plain": [
       "{'cost': 24, 'route': [17, 6, 8, 3]}"
      ]
     },
     "execution_count": 9,
     "metadata": {},
     "output_type": "execute_result"
    }
   ],
   "source": [
    "BellmanFord(Data, 17, 3, 3)"
   ]
  },
  {
   "cell_type": "markdown",
   "metadata": {},
   "source": [
    "The shortest path from 1 to 20 with most 3 steps: 1 - 20, and it costs 100.\n",
    "\n",
    "The shortest path from 11 to 13 with most 3 steps: 11 - 4 - 16 - 13, and it costs 12.\n",
    "\n",
    "The shortest path from 17 to 3 with most 3 steps: 17 - 6 - 8 - 3, and it costs 24."
   ]
  },
  {
   "cell_type": "code",
   "execution_count": 10,
   "metadata": {},
   "outputs": [
    {
     "data": {
      "text/plain": [
       "{'cost': 24, 'route': [1, 12, 4, 6, 8, 20]}"
      ]
     },
     "execution_count": 10,
     "metadata": {},
     "output_type": "execute_result"
    }
   ],
   "source": [
    "BellmanFord(Data, 1, 20, 5)"
   ]
  },
  {
   "cell_type": "code",
   "execution_count": 11,
   "metadata": {},
   "outputs": [
    {
     "data": {
      "text/plain": [
       "{'cost': 12, 'route': [11, 4, 16, 13]}"
      ]
     },
     "execution_count": 11,
     "metadata": {},
     "output_type": "execute_result"
    }
   ],
   "source": [
    "BellmanFord(Data, 11, 13, 5)"
   ]
  },
  {
   "cell_type": "code",
   "execution_count": 12,
   "metadata": {},
   "outputs": [
    {
     "data": {
      "text/plain": [
       "{'cost': 24, 'route': [17, 6, 8, 3]}"
      ]
     },
     "execution_count": 12,
     "metadata": {},
     "output_type": "execute_result"
    }
   ],
   "source": [
    "BellmanFord(Data, 17, 3, 5)"
   ]
  },
  {
   "cell_type": "markdown",
   "metadata": {},
   "source": [
    "The shortest path from 1 to 20 with most 5 steps: 1 - 12 - 4 - 6 - 8 - 20, and it costs 24.\n",
    "\n",
    "The shortest path from 11 to 13 with most 5 steps: 11 - 4 - 16 - 13, and it costs 12.\n",
    "\n",
    "The shortest path from 17 to 3 with most 5 steps: 17 - 6 - 8 - 3, and it costs 24."
   ]
  },
  {
   "cell_type": "markdown",
   "metadata": {},
   "source": [
    "# Problem 2\n",
    "\n",
    "See the handwriting solution"
   ]
  },
  {
   "cell_type": "markdown",
   "metadata": {},
   "source": [
    "# Consider the standard Shortest Path Problem.\n",
    "## After we have solved the shortest path problem, we would now like to find the second shortest path (which may have the same cost). Provide a method to do this."
   ]
  },
  {
   "cell_type": "code",
   "execution_count": 53,
   "metadata": {},
   "outputs": [],
   "source": [
    "def Second_SPP(Data, s, t):\n",
    "    '''\n",
    "    @Data: a dictionary where Data[i][j] means the cost from i to j.\n",
    "    @s: the start point, t is the end point\n",
    "    '''\n",
    "    route = Dijkstra(Data, s, t)[\"route\"]\n",
    "    new_dis = float('Inf')\n",
    "    \n",
    "    for i in range(len(route) - 1):\n",
    "        # keep route[:i+1] the same and detour at i+1\n",
    "        left = Data.keys() - route[:i+2]\n",
    "        precost = Dijkstra(Data, s, route[i])[\"cost\"]\n",
    "        for j in left:\n",
    "            later = Dijkstra(Data, j, t)\n",
    "            later_dis = precost + Data[route[i]][j] + later[\"cost\"]\n",
    "            if later_dis < new_dis:\n",
    "                new_dis = later_dis\n",
    "                new_route = route[:i+1] + later[\"route\"]\n",
    "    return {\"cost\": new_dis, \"route\": new_route}"
   ]
  },
  {
   "cell_type": "code",
   "execution_count": 57,
   "metadata": {},
   "outputs": [
    {
     "data": {
      "text/plain": [
       "{'cost': 25, 'route': [1, 12, 4, 18, 6, 8, 20]}"
      ]
     },
     "execution_count": 57,
     "metadata": {},
     "output_type": "execute_result"
    }
   ],
   "source": [
    "Second_SPP(Data, 1, 20)"
   ]
  },
  {
   "cell_type": "code",
   "execution_count": 54,
   "metadata": {},
   "outputs": [
    {
     "data": {
      "text/plain": [
       "{'cost': 12, 'route': [11, 4, 6, 16, 13]}"
      ]
     },
     "execution_count": 54,
     "metadata": {},
     "output_type": "execute_result"
    }
   ],
   "source": [
    "Second_SPP(Data, 11, 13)"
   ]
  },
  {
   "cell_type": "code",
   "execution_count": 55,
   "metadata": {},
   "outputs": [
    {
     "data": {
      "text/plain": [
       "{'cost': 33, 'route': [17, 5, 17, 6, 8, 3]}"
      ]
     },
     "execution_count": 55,
     "metadata": {},
     "output_type": "execute_result"
    }
   ],
   "source": [
    "Second_SPP(Data, 17, 3)"
   ]
  },
  {
   "cell_type": "markdown",
   "metadata": {},
   "source": [
    "## Your relative insists that a certain edge must be used on the shortest path. Provide a method that finds the shortest path that includes that edge.\n"
   ]
  },
  {
   "cell_type": "code",
   "execution_count": 17,
   "metadata": {
    "collapsed": true
   },
   "outputs": [],
   "source": [
    "def SSP_With_Certain_Edge(Data, s, t, p1, p2):\n",
    "    '''\n",
    "    @Data: a dictionary where Data[i][j] means the cost from i to j.\n",
    "    @s: the start point, t is the end point\n",
    "    @p1,p2: the certain edge's start and end point.\n",
    "    '''\n",
    "    pre = Dijkstra(Data, s, p1)\n",
    "    later = Dijkstra(Data, p2, t)\n",
    "    new_dis = pre[\"cost\"] + Data[p1][p2] + later[\"cost\"]\n",
    "    new_route = pre[\"route\"] + later[\"route\"]\n",
    "    return {\"cost\": new_dis, \"route\": new_route}"
   ]
  },
  {
   "cell_type": "code",
   "execution_count": 18,
   "metadata": {},
   "outputs": [
    {
     "data": {
      "text/plain": [
       "{'cost': 232, 'route': [1, 11, 13, 5, 17, 6, 8, 20]}"
      ]
     },
     "execution_count": 18,
     "metadata": {},
     "output_type": "execute_result"
    }
   ],
   "source": [
    "SSP_With_Certain_Edge(Data, 1, 20, 11, 13)"
   ]
  },
  {
   "cell_type": "markdown",
   "metadata": {},
   "source": [
    "# Consider the problem of finding the shortest path from s to all nodes in a graph G = (V, E). In class, we showed that this can be done by solving just one network flow problem.\n",
    "\n",
    "## The solution to the network flow problem gives you flows on every edge. How would you actually get the shortest path from s to a particular node i. (Hint: You can assume that there is only one best shortest path to each node i. Argue that the flow into node i comes from just one edge.)"
   ]
  },
  {
   "cell_type": "markdown",
   "metadata": {},
   "source": [
    "\n",
    "To get the shortest path from s to a particular node i, the network flow problem will be:\n",
    "    $$ min \\sum_{(i,j) \\in E} c_{ij} * f_{ij}$$\n",
    "\n",
    "$f_{ij}$: The sum of the flows on edge i to j; \n",
    "\n",
    "$c_{ij}$: The cost of unit flow on edge i to j; \n",
    "\n",
    "$b_i$: The sum of the flows entering i minus the sum of the flows leaving i;\n",
    "\n",
    "subject to:\n",
    "    $$l_{ij} = 0, u_{ij} = 1, \\forall (i,j) \\in E $$\n",
    "    $$b_s = 1, b_i = -1$$ \n",
    "    $$b_j = 0, \\forall i \\in V, i \\neq s, i$$ \n",
    "\n",
    "Under the assumption that there is only one best shortest path to each node i, \n",
    "\n",
    "we can start from node s: Among all $f_{sj}, \\forall j \\in V\\setminus S$, there should be exact one j that $f_{sj} = 1$. So we add node j to our result. Then we do the same thing to node j.\n",
    "\n",
    "Repeat the above step until we reach the particular node i. Output all the nodes in our result."
   ]
  },
  {
   "cell_type": "markdown",
   "metadata": {},
   "source": [
    "## Consider the same problem, but now we want each edge to be used in at most k of the shortest paths that we are computing. (Recall we are computing |V | − 1 shortest paths overall). How would we solve this as a network flow problem?"
   ]
  },
  {
   "cell_type": "markdown",
   "metadata": {},
   "source": [
    "\n",
    "To solve this question, the network flow problem will be: $$ min \\sum_{(i,j) \\in E} c_{ij} * f_{ij}$$\n",
    "$f_{ij}$: The sum of the flows on edge i to j; \n",
    "\n",
    "$c_{ij}$: The cost of unit flow on edge i to j; \n",
    "\n",
    "$b_i$: The sum of the flows entering i minus the sum of the flows leaving i;\n",
    "\n",
    "subject to:\n",
    "$$l_{ij} = 0, u_{ij} = k, \\forall (i,j) \\in E $$\n",
    "$$b_s = n-1$$ \n",
    "$$b_i = -1, \\forall i \\in V, i \\neq s$$ "
   ]
  },
  {
   "cell_type": "markdown",
   "metadata": {},
   "source": [
    "## Given an example of a graph that does not have a solution to b) when k = 2.\n"
   ]
  },
  {
   "cell_type": "markdown",
   "metadata": {},
   "source": [
    "V:{1, 2, 3, 4}\n",
    "\n",
    "E:{(1,2), (2,3), (3,4)}\n",
    "    \n",
    "In such a graph, if we choose 1 as start and k = 2, there isn't a solution. Because we need to pass the edge (1,2) at least 3 times in order to reach each other nodes once."
   ]
  },
  {
   "cell_type": "markdown",
   "metadata": {},
   "source": [
    "## From part b), how can we find the smallest value of k that will result in a feasible solution."
   ]
  },
  {
   "cell_type": "markdown",
   "metadata": {
    "collapsed": true
   },
   "source": [
    "\n",
    "We can try from k = 1 to k = n, stop if the k results in feasible solution. That's the smallest k."
   ]
  }
 ],
 "metadata": {
  "anaconda-cloud": {},
  "kernelspec": {
   "display_name": "Python 3",
   "language": "python",
   "name": "python3"
  },
  "language_info": {
   "codemirror_mode": {
    "name": "ipython",
    "version": 3
   },
   "file_extension": ".py",
   "mimetype": "text/x-python",
   "name": "python",
   "nbconvert_exporter": "python",
   "pygments_lexer": "ipython3",
   "version": "3.6.1"
  }
 },
 "nbformat": 4,
 "nbformat_minor": 1
}
