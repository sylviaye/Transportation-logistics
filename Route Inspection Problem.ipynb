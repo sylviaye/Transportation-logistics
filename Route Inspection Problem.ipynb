{
 "cells": [
  {
   "cell_type": "markdown",
   "metadata": {},
   "source": [
    "# Recall the Transportation Problem we discussed in class.\n",
    "\n",
    "## Suppose I increase the supply at some of the suppliers. How does this affect the optimal solution?\n",
    "\n"
   ]
  },
  {
   "cell_type": "markdown",
   "metadata": {},
   "source": [
    "\n",
    "Assumed that the original condition has enough supply to fill demand, which means ($\\sum{s_i} \\geq \\sum {d_j}$), if we increase the supply at some of the suppliers, the optimal solution may remain the same or may be improved to has lower cost. It depends on which suppliers' supply increase.\n",
    "\n",
    "1) If we increase the suppliers which far from customers, the optimal solution will ignore them, and the lowest cost remains the same.\n",
    "        \n",
    "2) If we increase the suppliers with low cost, the optimal solution will be updated. It will take more items from the suppliers with low cost and less items from those with high cost. In this way, the total cost will be decreases."
   ]
  },
  {
   "cell_type": "markdown",
   "metadata": {},
   "source": [
    "## Suppose I increase the supply at some of the suppliers and the demand at some of the consumers. Does the total cost increase, decrease, or it depends. Argue your case and/or provide examples to prove your point."
   ]
  },
  {
   "cell_type": "markdown",
   "metadata": {},
   "source": [
    "It depends.\n",
    "\n",
    "With the increasement in both supply and demand, the total cost usually increase due to more flow is requested in the network. \n",
    "\n",
    "But in some special cases, the total cost may decrease. Imaging we increase the suppliers with very low cost, although the flow increases, but we can also improve our optimal solution by replacing the high cost supplier by the extra low cost suppliers. If the decreasement is more than the increasement, the total cost can decrease in this situation.\n",
    "\n",
    "Here are examples, one for the total cost increasing and one for cost decreasing:"
   ]
  },
  {
   "cell_type": "code",
   "execution_count": 1,
   "metadata": {},
   "outputs": [
    {
     "name": "stdout",
     "output_type": "stream",
     "text": [
      "Original problem:\n",
      "\t total cost = 2010.0\n",
      "\t optimal scheme = [ 10.  10.  10.   0.   0.   0.]\n",
      "After increasing demand and supply(Case 1)\n",
      "\t total cost = 40.0\n",
      "\t optimal scheme = [  0.   0.  20.  20.  20.   0.]\n",
      "After increasing demand and supply(Case 2):\n",
      "\t total cost = 3010.0\n",
      "\t optimal scheme = [ 10.  20.  10.   0.  20.   0.]\n"
     ]
    }
   ],
   "source": [
    "from scipy.optimize import linprog\n",
    "'''\n",
    "To solve the minimum total cost problem, we can get \n",
    "the linear optimization formulation as below:\n",
    "we want:\n",
    "    min 100 * Fa1 + 100 * Fa2 + 1 * Fb1 + 1 * Fb2 + 0 * Fa0 + 0 * Fa0 \n",
    "    (0 is where the extra supply flows to)\n",
    "subject to:\n",
    "    Fa1 + Fa2 + Fa0 = Sa\n",
    "    Fb1 + Fb2 + Fb0 = Sb\n",
    "    Fa1 + Fb1 = D1\n",
    "    Fa2 + Fb2 = D2\n",
    "\n",
    "optimal scheme x represents [Fa1, Fa2, Fb1, Fb2, Fa0, Fa0]\n",
    "\n",
    "Original Supply and Demand:\n",
    "Demand:         Supply:\n",
    "D1 = 20          A = 20\n",
    "D2 = 10          B = 10\n",
    "'''\n",
    "\n",
    "c = [100, 100, 1, 1, 0, 0] # Ca1,Ca2,Cb1,Cb2,Caz,Cbz\n",
    "# LS constraints:\n",
    "A = [[1, 1, 0, 0, 1, 0], [0, 0, 1, 1, 0, 1], \n",
    "     [-1, 0, -1, 0, 0, 0], [0, -1, 0, -1, 0, 0]] \n",
    "b = [20, 10, -20, -10]\n",
    "\n",
    "origin_case = linprog(c, A_eq = A, b_eq = b)\n",
    "print(\"Original problem:\")\n",
    "print(\"\\t total cost = \"+ str(origin_case.fun))\n",
    "print(\"\\t optimal scheme = \"+ str(origin_case.x))\n",
    "\n",
    "\n",
    "# Case 1: increase supply at B and demand at D2\n",
    "'''\n",
    "Increase Supply by 30 at B and Demand by 10 at D2:\n",
    "Demand:         Supply:\n",
    "D1 = 20          A = 20\n",
    "D2 = 20          B = 40\n",
    "'''\n",
    "b = [20, 40, -20, -20] # new LS constraints\n",
    "first_case = linprog(c, A_eq = A, b_eq = b) \n",
    "print(\"After increasing demand and supply(Case 1)\")\n",
    "print(\"\\t total cost = \"+ str(first_case.fun))\n",
    "print(\"\\t optimal scheme = \"+ str(first_case.x))\n",
    "\n",
    "\n",
    "# Case 2: increase supply at A and demand at D2\n",
    "'''\n",
    "Increase Supply by 30 at A and Demand by 10 at D2:\n",
    "Demand:         Supply:\n",
    "D1 = 20          A = 50\n",
    "D2 = 20          B = 10\n",
    "'''\n",
    "b = [50, 10, -20, -20] # new LS constraints\n",
    "second_case = linprog(c, A_eq = A, b_eq = b)\n",
    "print(\"After increasing demand and supply(Case 2):\")\n",
    "print(\"\\t total cost = \"+ str(second_case.fun))\n",
    "print(\"\\t optimal scheme = \"+ str(second_case.x))"
   ]
  },
  {
   "cell_type": "markdown",
   "metadata": {},
   "source": [
    "From above, we can see that in different cases, the total cost can either increase or decrease. So it depends on how we change the supply and demand."
   ]
  },
  {
   "cell_type": "markdown",
   "metadata": {},
   "source": [
    "# We focus on applying the Route Inspection Problem on a real world example.\n",
    "\n",
    "## Find a neighborhood in New York City that is strongly connected. Let nodes correspond to intersections and edges correspond to roads. A two way street should correspond to two edges, one in each direction. Your neighborhood (directed graph) should have at least 8 nodes. Let edge costs of the graph correspond to approximate time to travel on the edge. This can be done with educated guessing. Draw the corresponding graph and label the streets.\n"
   ]
  },
  {
   "cell_type": "markdown",
   "metadata": {},
   "source": [
    "I chose the neighborhood near Columbia University, Including the streets between Broadway and Amsterdan Avenue; 110th St and 114th St. \n",
    "\n",
    "In this graph, Broadway and Amsterdan Avenue edges have a cost of 1 except between 114th and 120th St due to the length of road, and all street edges have a cost of 2 except for 110th and 120th St which are broad like avenue. Broadway and Amsterdan Avenue between 114th and 120th St has cost 6. 110th and 120th St has cost 1.5. \n",
    "\n",
    "Except Broadway, Amsterdan Avenue and 110th, 120th St, other edges are all single way. To be concise, We represent Amsterdan as A and Broadway as B."
   ]
  },
  {
   "cell_type": "code",
   "execution_count": 2,
   "metadata": {},
   "outputs": [
    {
     "data": {
      "image/png": "[encoded data removed]",
      "text/plain": [
       "<matplotlib.figure.Figure at 0x10da30860>"
      ]
     },
     "metadata": {},
     "output_type": "display_data"
    }
   ],
   "source": [
    "%matplotlib inline\n",
    "import networkx as nx\n",
    "import numpy as np\n",
    "import matplotlib.pyplot as plt\n",
    "\n",
    "G = nx.DiGraph()\n",
    "\n",
    "G.add_edges_from([('110A','111A'),('111A','112A'),\n",
    "                  ('112A','113A'),('113A','114A')], weight = 1)\n",
    "G.add_edges_from([('114A','113A'),('113A','112A'),\n",
    "                  ('112A','111A'),('111A','110A')], weight = 1)\n",
    "G.add_edges_from([('110B','111B'),('111B','112B'),\n",
    "                  ('112B','113B'),('113B','114B')], weight = 1)\n",
    "G.add_edges_from([('114B','113B'),('113B','112B'),\n",
    "                  ('112B','111B'),('111B','110B')], weight = 1)\n",
    "G.add_edges_from([('114B','120B'),('114A','120A'),\n",
    "                  ('120B','114B'),('120A','114A')], weight = 6)\n",
    "G.add_edges_from([('110A','110B'),('110B','110A'),\n",
    "                  ('120A','120B'),('120B','120A')], weight = 1.5)\n",
    "G.add_edges_from([('111A','111B'),('112B','112A'),\n",
    "                  ('113A','113B'),('114B', '114A')], weight = 2)\n",
    "positions = {'110A':(2,0),'110B':(0,0),'111A':(2,1),'111B':(0,1),\n",
    "             '112A':(2,2),'112B':(0,2),'113A':(2,3),'113B':(0,3),\n",
    "             '114A':(2,4),'114B':(0,4),'120A':(2,10),'120B':(0,10),}\n",
    "\n",
    "nx.draw_networkx(G,arrows=True,pos=positions) "
   ]
  },
  {
   "cell_type": "markdown",
   "metadata": {},
   "source": [
    "## Code the linear optimization formulation for the Route Inspection Problem (remember to include it) and find the optimal flow. Hint: It may be easier to describe your graph as a matrix like in previous homework. Then your optimization formulation should be couple lines of code if you use an optimization modeling language.\n"
   ]
  },
  {
   "cell_type": "markdown",
   "metadata": {},
   "source": [
    "First, I wrote the graph as matrix, using cost = 1000 if the edges don't exist.\n",
    "\n",
    "Nodes are represented as:\n",
    "0 : 110A, 1 : 111A, 2 : 112A, 3 : 113A, 4 : 114A, 5: 120A, 6 : 110B, 7 : 111B, 8 : 112B, 9 : 113B, 10 : 114B, 11 : 120B\n",
    "\n",
    "Read the csv file which stores the cost matrix."
   ]
  },
  {
   "cell_type": "code",
   "execution_count": 3,
   "metadata": {
    "collapsed": true
   },
   "outputs": [],
   "source": [
    "from scipy.optimize import linprog\n",
    "import pandas as pd\n",
    "import numpy as np\n",
    "import random\n",
    "\n",
    "# read CSV file\n",
    "df = pd.read_csv(\"110A-120B.csv\",header=None)\n",
    "graph = df.as_matrix()"
   ]
  },
  {
   "cell_type": "markdown",
   "metadata": {},
   "source": [
    "To solve Route Inspection Problem, we can get the linear optimization formulation as below:\n",
    "we want:\n",
    "\n",
    "$$min \\space \\sum_{(i,j)\\in E} {c_{ij} * f_{ij}}$$\n",
    "    \n",
    "subject to    \n",
    "\n",
    "$$f_{ij} \\geq 1, \\space\\space \\forall (i,j) \\in E $$\n",
    "    \n",
    "$$\\sum_{j\\mid(i,j)\\in E}{f_{ij}} - \\sum_{j\\mid(i,j)\\in E}{f_{ji}} = 0, \\space\\space \\forall i \\in V$$"
   ]
  },
  {
   "cell_type": "code",
   "execution_count": 4,
   "metadata": {},
   "outputs": [
    {
     "name": "stdout",
     "output_type": "stream",
     "text": [
      "Minimum Total Cost: 58.0\n",
      "Best Solution:\n",
      "[[ 0.  1.  0.  0.  0.  0.  1.  0.  0.  0.  0.  0.]\n",
      " [ 1.  0.  1.  0.  0.  0.  0.  1.  0.  0.  0.  0.]\n",
      " [ 0.  2.  0.  1.  0.  0.  0.  0.  0.  0.  0.  0.]\n",
      " [ 0.  0.  1.  0.  1.  0.  0.  0.  0.  1.  0.  0.]\n",
      " [ 0.  0.  0.  2.  0.  1.  0.  0.  0.  0.  0.  0.]\n",
      " [ 0.  0.  0.  0.  1.  0.  0.  0.  0.  0.  0.  1.]\n",
      " [ 1.  0.  0.  0.  0.  0.  0.  1.  0.  0.  0.  0.]\n",
      " [ 0.  0.  0.  0.  0.  0.  1.  0.  2.  0.  0.  0.]\n",
      " [ 0.  0.  1.  0.  0.  0.  0.  1.  0.  1.  0.  0.]\n",
      " [ 0.  0.  0.  0.  0.  0.  0.  0.  1.  0.  2.  0.]\n",
      " [ 0.  0.  0.  0.  1.  0.  0.  0.  0.  1.  0.  1.]\n",
      " [ 0.  0.  0.  0.  0.  1.  0.  0.  0.  0.  1.  0.]]\n"
     ]
    }
   ],
   "source": [
    "'''\n",
    "We use an array x with length 10*10 to represent matrix (f_ij).\n",
    "We also use an array C with length 10*10 to represent cost matrix (c_ij).\n",
    "Then we set up LP constrain A*x = b for this question.\n",
    "'''\n",
    "# Cost Matrix as array:\n",
    "C = graph.flatten()\n",
    "\n",
    "# Set LP Constrain A*x = b to satisfy each node has flow_in - flow_out = 0\n",
    "\n",
    "# A is a list contain 10 elements, \n",
    "# each is an array with length 100 to satify one node has flow_in - flow_out = 0.\n",
    "# Outgoing edge = -1\n",
    "# Incoming edge = 1\n",
    "A = list()\n",
    "for i in range(len(graph)):\n",
    "    Intersection = [0]*(len(graph)**2)\n",
    "    for j in range(len(graph)):\n",
    "        if i != j: # no self serving nodes\n",
    "            if graph[i][j]<1000:\n",
    "                Intersection[i*len(graph)+j] = -1\n",
    "            if graph[j][i]<1000:\n",
    "                Intersection[j*len(graph)+i] = 1\n",
    "    A.append(Intersection)\n",
    "    \n",
    "# b is an array with length 10, \n",
    "# representing the difference between outgoing flow and incoming flow for each node.\n",
    "b = [0]*len(graph)\n",
    "    \n",
    "# Set Bounds on edges to satisfy f_ij >= 1:\n",
    "Bounds = list()\n",
    "for i in range(len(C)):\n",
    "    if C[i] < 1000 and C[i] != 0: # existed edges\n",
    "        Bounds.append( (1,None) )\n",
    "    else: # unexisted edges\n",
    "        Bounds.append( (0,None) )\n",
    "\n",
    "flow = linprog(C, A_eq=A, b_eq=b, bounds=Bounds)\n",
    "\n",
    "print(\"Minimum Total Cost: \" + str(flow.fun))\n",
    "optimal_flow = flow.x.reshape(len(graph),len(graph))\n",
    "print(\"Best Solution:\")\n",
    "print(optimal_flow)"
   ]
  },
  {
   "cell_type": "markdown",
   "metadata": {},
   "source": [
    "## Convert your flow to an optimal route, and show your work."
   ]
  },
  {
   "cell_type": "markdown",
   "metadata": {},
   "source": [
    "There are two steps to solve this problem. First, find all the cycles W1, W2, ... Second, using the algorithm to find the route.\n",
    "\n",
    "Now, We accomplish the first step:"
   ]
  },
  {
   "cell_type": "code",
   "execution_count": 5,
   "metadata": {},
   "outputs": [
    {
     "data": {
      "text/plain": [
       "[{0: [1, 0], 1: [0, 0]},\n",
       " {0: [6, 0], 6: [0, 0]},\n",
       " {6: [7, 0], 7: [6, 0]},\n",
       " {1: [2, 0], 2: [1, 0]},\n",
       " {1: [7, 0], 2: [1, 0], 7: [8, 0], 8: [2, 0]},\n",
       " {2: [3, 0], 3: [2, 0]},\n",
       " {3: [4, 0], 4: [3, 0]},\n",
       " {7: [8, 0], 8: [7, 0]},\n",
       " {8: [9, 0], 9: [8, 0]},\n",
       " {3: [9, 0], 4: [3, 0], 9: [10, 0], 10: [4, 0]},\n",
       " {4: [5, 0], 5: [4, 0]},\n",
       " {5: [11, 0], 11: [5, 0]},\n",
       " {9: [10, 0], 10: [9, 0]},\n",
       " {10: [11, 0], 11: [10, 0]}]"
      ]
     },
     "execution_count": 5,
     "metadata": {},
     "output_type": "execute_result"
    }
   ],
   "source": [
    "'''\n",
    "Specifically, start at any node, and take any path until a cycle is formed. \n",
    "Since b(i) = 0, i.e., the flow in is the same as the flow out at every node, \n",
    "Then a random path must eventually form a cycle. \n",
    "Once a cycle is formed, removing the corresponding edges in the cycle from G′ \n",
    "Repeat until there are no more edges left. \n",
    "'''\n",
    "\n",
    "def find_cycle(path, last, edges, Cycles):\n",
    "    cycle = dict()\n",
    "    while True:\n",
    "        next_node = path[last]\n",
    "        # Create cycle dictionary {key:[next_node, times visited(initialized as 0)]}\n",
    "        cycle[last] = [next_node, 0]\n",
    "        # removing the corresponding edges in the cycle from G′\n",
    "        edges[last][next_node] = edges[last][next_node] - 1  \n",
    "        if next_node in cycle.keys(): # we finished a cycle\n",
    "            break\n",
    "        last = next_node # Continue searching until a cycle completed\n",
    "        \n",
    "    Cycles.append(cycle) # update Cycles\n",
    "    return (Cycles,edges)\n",
    "\n",
    "# Initialization\n",
    "Cycles = list()\n",
    "flows = np.copy(optimal_flow)\n",
    "starting_nodes= set(range(len(flows)))\n",
    "\n",
    "# Start finding\n",
    "while len(starting_nodes) != 0:\n",
    "    start = random.choice(tuple(starting_nodes))\n",
    "    path = dict()\n",
    "    i = start\n",
    "    j = 0\n",
    "    while j < len(flows):\n",
    "        if flows[i][j] > 0: # If there is flow from i to j, go to j\n",
    "            path[i] = j\n",
    "            if j in path.keys(): # find a cycle\n",
    "                # add cycle to Cycles list, and delete used edges\n",
    "                Cycles, flows = find_cycle(path, j, flows, Cycles)\n",
    "                break\n",
    "            i = j\n",
    "            j = 0\n",
    "            continue\n",
    "        j+=1\n",
    "    # reset starting nodes, which have outgoing flow\n",
    "    starting_nodes= set(np.where(np.sum(flows, axis=1)>0)[0]) \n",
    "\n",
    "Cycles"
   ]
  },
  {
   "cell_type": "markdown",
   "metadata": {},
   "source": [
    "Now we have got all the cycles in the graph. We do the second step to find optimal route."
   ]
  },
  {
   "cell_type": "code",
   "execution_count": 6,
   "metadata": {},
   "outputs": [
    {
     "name": "stdout",
     "output_type": "stream",
     "text": [
      "[1, 0, 6, 7, 8, 7, 8, 9, 10, 9, 10, 11, 5, 4, 3, 2, 1, 2, 3, 4, 5, 11, 10, 4, 3, 9, 8, 2, 1, 7, 6, 0, 1]\n"
     ]
    }
   ],
   "source": [
    "# initialze variables\n",
    "Unvisited = set()\n",
    "for i in range(1, len(Cycles)):\n",
    "    Unvisited.add(i)\n",
    "S = [Cycles[0]]\n",
    "i = random.choice(tuple(S[-1].keys()))\n",
    "path = [i]\n",
    "\n",
    "while S:\n",
    "    W = S[-1] # Let W be the cycle in S that was last to be added\n",
    "    W[i][1] = W[i][1] + 1 # mark as visited\n",
    "    i = W[i][0] # Let i be the next node in the current cycle W\n",
    "    path.append(i)\n",
    "    if W[i][1] > 0: # we have visited on this cycle\n",
    "        S.pop() # S = S\\W\n",
    "        \n",
    "    for j in Unvisited:\n",
    "        if i in Cycles[j].keys(): # if i is on a new cycle W, we add it to S.\n",
    "            S.append(Cycles[j])\n",
    "            Unvisited.remove(j)\n",
    "            break\n",
    "\n",
    "print(path)"
   ]
  },
  {
   "cell_type": "markdown",
   "metadata": {},
   "source": [
    "# Consider the following variations of the Route Inspection problem.\n",
    "## Suppose we have two trucks instead of one. Together, the two trucks (snow plows, for example) have to travel on all the edges. What should be our objective?"
   ]
  },
  {
   "cell_type": "markdown",
   "metadata": {},
   "source": [
    "A K-RSP instance is defined by k ≥ 2 postmen on a connected undirected graph G = (V, E). The postmen have to walk all service edges in E at least once.\n",
    "\n",
    "One idea is that we should minimize the total cost of all the k postmen. But usually it gets the result that only one postman is needed, which doesn't make best of all the sources. So we usually want to minimize the maximum cost among the k postmen. In this way, we courage them to work in the same time to reduce the maximum cost. We can write our objective as below:\n",
    "\n",
    "$$min \\space\\space max_{i = 1}^{k} {(cost(T_i))}$$\n",
    "\n",
    "In this question, we have two trucks, k = 2\n",
    "$$min \\space\\space max(cost(T_1), cost(T_2))$$"
   ]
  },
  {
   "cell_type": "markdown",
   "metadata": {},
   "source": [
    "## Provide a seemingly reasonable heuristic to part a) that uses our algorithm for one truck."
   ]
  },
  {
   "cell_type": "markdown",
   "metadata": {},
   "source": [
    "We can realize this idea by:\n",
    "\n",
    "First, we use our algorithm for one truck to get the shortest heuristic P for one postman, with cost C. <br>\n",
    "Second, We set R = C/k, which will be the approximately every postman's task.<br>\n",
    "Third, now we go through the P to devide it into k part, connect their endpoints to the start point.\n",
    "\n",
    "All the k paths form our answer to this k-Route Inspection problem."
   ]
  },
  {
   "cell_type": "markdown",
   "metadata": {},
   "source": [
    "## Implement your idea from part b) on the graph you constructed in Question 2."
   ]
  },
  {
   "cell_type": "code",
   "execution_count": 7,
   "metadata": {},
   "outputs": [
    {
     "data": {
      "text/plain": [
       "[[1, 0, 6, 7, 8, 7, 8, 9, 10, 9, 10, 11, 5, 4, 3, 2, 1, 2, 3, 4, 1],\n",
       " [1, 4, 5, 11, 10, 4, 3, 9, 8, 2, 1, 7, 6, 0, 1]]"
      ]
     },
     "execution_count": 7,
     "metadata": {},
     "output_type": "execute_result"
    }
   ],
   "source": [
    "def kRSP(k, G, C, path):\n",
    "    start_point = path[0]\n",
    "    S = list()\n",
    "    R = C/k\n",
    "    i = 1\n",
    "    while i < k:\n",
    "        r = 0\n",
    "        temp = [path[0]]\n",
    "        for j in range(len(path)):\n",
    "            curr_node = path[j]\n",
    "            next_node = path[j+1]\n",
    "            temp.append(next_node)\n",
    "            C -= graph[curr_node][next_node]\n",
    "            r += graph[curr_node][next_node]\n",
    "            if r > R:\n",
    "                if temp[0] != start_point:\n",
    "                    temp = [start_point] + temp\n",
    "                if temp[-1] != start_point:\n",
    "                    temp.append(start_point)\n",
    "                S.append(temp)\n",
    "                path = path[j+1:]\n",
    "                i += 1\n",
    "                break\n",
    "    \n",
    "    if path[0] != start_point:\n",
    "        path = [start_point] + path\n",
    "    S.append(path)\n",
    "    return(S)\n",
    "    \n",
    "kRSP_paths = kRSP(2, graph, flow.fun, path)\n",
    "kRSP_paths"
   ]
  },
  {
   "cell_type": "markdown",
   "metadata": {},
   "source": [
    "# Recall the Traveling Salesman Problem and the heuristics we developed.\n",
    "## Create a graph where the nearest neighbor heuristic fails. In other words, the final result of the heuristic should not be the shortest Hamiltonian cycle."
   ]
  },
  {
   "cell_type": "code",
   "execution_count": 8,
   "metadata": {},
   "outputs": [
    {
     "data": {
      "image/png": "[encoded data removed]",
      "text/plain": [
       "<matplotlib.figure.Figure at 0x10e9562b0>"
      ]
     },
     "metadata": {},
     "output_type": "display_data"
    }
   ],
   "source": [
    "%matplotlib inline\n",
    "import networkx as nx\n",
    "import numpy as np\n",
    "import matplotlib.pyplot as plt\n",
    "\n",
    "G = nx.Graph()\n",
    "G.add_edges_from([('A', 'B'),('B', 'A'),('B','C'),('C','B'),\n",
    "                  ('C','D'),('D','C'),('D','A'),('A','D')], weight = 13)\n",
    "G.add_edges_from([('B','D'),('D','B')], weight=10)\n",
    "G.add_edges_from([('A','C'),('C','A')], weight=24)\n",
    "\n",
    "positions = {'A':(1,4.8),'B':(0,2.4),'C':(1,0),'D':(2,2.4)}\n",
    "\n",
    "nx.draw_networkx(G, pos=positions) "
   ]
  },
  {
   "cell_type": "markdown",
   "metadata": {},
   "source": [
    "In the above graph, if we start at A, the shortest path should be A-B-C-D-A, which costs 13*4 = 52.\n",
    "\n",
    "But if we use nearest neighbor heuristic, the path we choose will be A-B-D-C-A (since B-D = 10 < 13 = B-C), which costs 13 + 10 + 13 + 24 = 60.\n",
    "\n",
    "In this situation, nearest neighbor heuristic fails."
   ]
  },
  {
   "cell_type": "markdown",
   "metadata": {},
   "source": [
    "## Create a graph where the 2-opt heuristic fails. In other words, first find a feasible solution on your graph. Then run 2-opt until you get stuck, but the final solution is not the shortest Hamiltonian cycle."
   ]
  },
  {
   "cell_type": "code",
   "execution_count": 9,
   "metadata": {},
   "outputs": [
    {
     "data": {
      "image/png": "[encoded data removed]",
      "text/plain": [
       "<matplotlib.figure.Figure at 0x111ab2828>"
      ]
     },
     "metadata": {},
     "output_type": "display_data"
    }
   ],
   "source": [
    "%matplotlib inline\n",
    "import networkx as nx\n",
    "import numpy as np\n",
    "import matplotlib.pyplot as plt\n",
    "\n",
    "G = nx.Graph()\n",
    "G.add_edges_from([('A', 'B'),('C','D'),('E','F')], weight=1)\n",
    "G.add_edges_from([('A','C'),('B','D'),('C','E'),('D','F')], weight=2)\n",
    "G.add_edges_from([('F','A')],weight=17**(.5))\n",
    "positions = {'F':(1,0),'E':(0,0),'D':(1,2),'C':(0,2),'B':(1,4),'A':(0,4)}\n",
    "\n",
    "nx.draw_networkx(G,arrows=True,pos=positions) "
   ]
  },
  {
   "cell_type": "markdown",
   "metadata": {},
   "source": [
    "In the above graph, if we start at A, the shortest path should be A-C-E-F-D-B-A, which costs 10.\n",
    "\n",
    "When we use nearest neighbor heuristic, the path we choose will be A-B-D-C-E-F-A , which costs 7 + sqrt(17) > 10\n",
    "\n",
    "If we start with the solution from nearest neighbor heuristic and use 2-opt heuristic to improve it, we can never find the best solution."
   ]
  },
  {
   "cell_type": "markdown",
   "metadata": {},
   "source": [
    "# Consider the Dial-a-Ride problem, where we have n passengers to pick up and drop. "
   ]
  },
  {
   "cell_type": "markdown",
   "metadata": {},
   "source": [
    "## Formulate the Dial-a-Ride problem as an integer program."
   ]
  },
  {
   "cell_type": "markdown",
   "metadata": {},
   "source": [
    "The vertex set Nodes is partitioned into $Nodes = U \\cup V \\cup \\{0, 2n + 1\\}$, where {0, 2n + 1} are two copy of node D. $U = \\{1,2,...,n\\}$ is the set of pickup vertices and $V = \\{n+1,n+2,...,2n\\}$ is the set of dropoff vertices. $t_i$ represents the time we pass the node i.\n",
    "\n",
    "Our objective is:\n",
    "$$min \\space \\sum_{i \\in Nodes}\\sum_{j \\in Nodes} {c_{ij} * f_{ij}}$$\n",
    "\n",
    "subject to:\n",
    "$$\\sum_{i \\in Nodes} {f_{ij}} = 1, \\forall j \\in U \\cup V$$\n",
    "$$\\sum_{j \\in Nodes} {f_{ij}} = 1, \\forall i \\in U \\cup V$$\n",
    "$$ t_i < t_{n+i}, \\forall i = 1,2,...,n$$\n",
    "$$f_{ij} = 0\\space or\\space 1, \\forall i,j \\in Nodes$$"
   ]
  },
  {
   "cell_type": "markdown",
   "metadata": {
    "collapsed": true
   },
   "source": [
    "## Devise a heuristic for finding a decent feasible solution for the Dial-a-Ride problem."
   ]
  },
  {
   "cell_type": "markdown",
   "metadata": {},
   "source": [
    "To find a feasible solution, we can based on Nearest Neighbor Heuristic.\n",
    "We start from the node D, and choose a nearest node from the avaliable set. The avaliable set includes all the left pickup vertices and the dropoff vertices corresponding those who has already been picked up."
   ]
  },
  {
   "cell_type": "markdown",
   "metadata": {},
   "source": [
    "## Provide a a heuristic to potentially improve any feasible solution."
   ]
  },
  {
   "cell_type": "markdown",
   "metadata": {},
   "source": [
    "We can use 2-opt to improve our solution.\n",
    "\n",
    "We start with a Hamiltonian cycle, and repeat the following procedure until no more improve- ment is possible. Take any two edges that do not share a node, and remove them from the cycle. Now add 2 edges to make a new Hamiltonian cycle. If this new Hamiltonian cycle is cheaper and satisfies the constraints, then keep it. Otherwise, revert back to the original cycle."
   ]
  }
 ],
 "metadata": {
  "anaconda-cloud": {},
  "kernelspec": {
   "display_name": "Python 3",
   "language": "python",
   "name": "python3"
  },
  "language_info": {
   "codemirror_mode": {
    "name": "ipython",
    "version": 3
   },
   "file_extension": ".py",
   "mimetype": "text/x-python",
   "name": "python",
   "nbconvert_exporter": "python",
   "pygments_lexer": "ipython3",
   "version": "3.6.1"
  }
 },
 "nbformat": 4,
 "nbformat_minor": 1
}
